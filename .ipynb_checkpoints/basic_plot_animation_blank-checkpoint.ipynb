{
 "cells": [
  {
   "cell_type": "markdown",
   "id": "e8a6e80a",
   "metadata": {},
   "source": [
    "# Basic Plot Animations with Matplotlib"
   ]
  },
  {
   "cell_type": "markdown",
   "id": "0aa182aa",
   "metadata": {},
   "source": [
    "This tutorial adapted from skotaro's blog post [\"Artist\" in Matplotlib](https://dev.to/skotaro/artist-in-matplotlib---something-i-wanted-to-know-before-spending-tremendous-hours-on-googling-how-tos--31oo) and the blog Brushing Up Science's [Matplotlib animations the easy way](https://brushingupscience.com/2016/06/21/matplotlib-animations-the-easy-way/). "
   ]
  },
  {
   "cell_type": "markdown",
   "id": "2bcb99cc",
   "metadata": {},
   "source": [
    "## Module Imports"
   ]
  },
  {
   "cell_type": "code",
   "execution_count": null,
   "id": "883b14af",
   "metadata": {},
   "outputs": [],
   "source": [
    "%matplotlib notebook\n",
    "import numpy as np\n",
    "import matplotlib.pyplot as plt\n",
    "from matplotlib.animation import FuncAnimation\n",
    "from IPython.display import HTML"
   ]
  },
  {
   "cell_type": "markdown",
   "id": "4e671c27",
   "metadata": {},
   "source": [
    "## Review: How does Matplotlib work?"
   ]
  },
  {
   "attachments": {},
   "cell_type": "markdown",
   "id": "de7fa960",
   "metadata": {},
   "source": [
    "* Plotting package based in MATLAB™ style\n",
    "* Submodules typically imported individually\n",
    "    - pyplot\n",
    "    - dates\n",
    "    - image\n",
    "    - patches\n",
    "    - animation"
   ]
  },
  {
   "cell_type": "markdown",
   "id": "c08505f7",
   "metadata": {},
   "source": [
    "Allows for advanced plot creation with object-oriented plotting."
   ]
  },
  {
   "cell_type": "markdown",
   "id": "945849e4",
   "metadata": {},
   "source": [
    "### Anatomy of Matplotlib Figure"
   ]
  },
  {
   "cell_type": "markdown",
   "id": "de07ce90",
   "metadata": {},
   "source": [
    "The matplotlib documentation offers a [tutorial](https://matplotlib.org/stable/tutorials/introductory/quick_start.html) with this great graphic explaining the objects which make up a figure.\n",
    "![anatomy of figure](https://matplotlib.org/stable/_images/anatomy.png)"
   ]
  },
  {
   "attachments": {},
   "cell_type": "markdown",
   "id": "aa810164",
   "metadata": {},
   "source": [
    "### Object Oriented Plotting: The Artist Object"
   ]
  },
  {
   "cell_type": "markdown",
   "id": "4ec229b3",
   "metadata": {},
   "source": [
    "Every component of a figure is an Artist object.\n",
    "\n",
    "![Diagram of Artists in Matplotlib](https://res.cloudinary.com/practicaldev/image/fetch/s--KMJNInQX--/c_limit%2Cf_auto%2Cfl_progressive%2Cq_auto%2Cw_880/https://thepracticaldev.s3.amazonaws.com/i/la33f9zwg65hqjz9j4ee.png)"
   ]
  },
  {
   "cell_type": "markdown",
   "id": "c20ed004",
   "metadata": {},
   "source": [
    "> The **Axes** Artist is the center of the Matplotlib world."
   ]
  },
  {
   "cell_type": "markdown",
   "id": "db0a98f7",
   "metadata": {},
   "source": [
    "The Artists that the Axes object contains ([copied from the Artists tutorial](https://matplotlib.org/stable/tutorials/intermediate/artists.html)).  \n",
    "\n",
    "Attributes that are plural are containers. Attributes that are singular are primitives.\n",
    "\n",
    "|Axes attribute    |Description|\n",
    "|:-----------------|:----------|\n",
    "|artists           |An `.ArtistList` of `.Artist` instances|\n",
    "|patch             |`.Rectangle` instance for Axes background|\n",
    "|collections       |An `.ArtistList` of `.Collection` instances|\n",
    "|images            |An `.ArtistList` of `.AxesImage`|\n",
    "|lines             |An `.ArtistList` of `.Line2D` instances|\n",
    "|patches           |An `.ArtistList` of `.Patch` instances|\n",
    "|texts             |An `.ArtistList` of `.Text` instances|\n",
    "|xaxis             |A `matplotlib.axis.XAxis` instance|\n",
    "|yaxis             |A `matplotlib.axis.YAxis` instance|"
   ]
  },
  {
   "cell_type": "markdown",
   "id": "e0106efa",
   "metadata": {},
   "source": [
    "Summary of some Axes helper methods for creating primitive Artists and adding them to their respective containers.\n",
    "\n",
    "|Axes helper method                         |Artist             |Container|\n",
    "|:------------------------------------------|:------------------|:--------|\n",
    "|`~.axes.Axes.annotate` - text annotations  |`.Annotation`      |ax.texts|\n",
    "|`~.axes.Axes.bar` - bar charts             |`.Rectangle`       |ax.patches|\n",
    "|`~.axes.Axes.errorbar` - error bar plots   |`.Line2D` and `.Rectangle`|ax.lines and ax.patches|\n",
    "|`~.axes.Axes.fill` - shared area           |`.Polygon`         |ax.patches|\n",
    "|`~.axes.Axes.hist` - histograms            |`.Rectangle`       |ax.patches|\n",
    "|`~.axes.Axes.imshow` - image data          |`.AxesImage`       |ax.images|\n",
    "|`~.axes.Axes.legend` - Axes legend         |`.Legend`          |ax.get_legend()|\n",
    "|`~.axes.Axes.plot` - xy plots              |`.Line2D`          |ax.lines|\n",
    "|`~.axes.Axes.scatter` - scatter charts     |`.PolyCollection`  |ax.collections|\n",
    "|`~.axes.Axes.text` - text                  |`.Text`            |ax.texts|"
   ]
  },
  {
   "cell_type": "markdown",
   "id": "9021d363",
   "metadata": {},
   "source": [
    "Why separate Axes from Figure? So that one Figure object can have multiple subplots each with their own axes instances."
   ]
  },
  {
   "cell_type": "markdown",
   "id": "5cacfcdb",
   "metadata": {},
   "source": [
    "## Animating a Plot with FuncAnimation"
   ]
  },
  {
   "cell_type": "markdown",
   "id": "763bcc14",
   "metadata": {},
   "source": [
    "### Step 1: Initiate the Figure and Axes artists that will contain the plot components"
   ]
  },
  {
   "cell_type": "markdown",
   "id": "74a73829",
   "metadata": {},
   "source": [
    "Set the limits of the Axes artist. Setting the limits explicitly helps prevent rescaling during the animation."
   ]
  },
  {
   "cell_type": "code",
   "execution_count": null,
   "id": "3b53acea",
   "metadata": {
    "scrolled": true
   },
   "outputs": [],
   "source": []
  },
  {
   "cell_type": "markdown",
   "id": "f0c72d0a",
   "metadata": {},
   "source": [
    "### Step 2: Set up data to plot"
   ]
  },
  {
   "cell_type": "markdown",
   "id": "d184267f",
   "metadata": {},
   "source": [
    "In this case, lets set up an array representing the coordinates of a fancy wave."
   ]
  },
  {
   "cell_type": "code",
   "execution_count": null,
   "id": "5735a2f4",
   "metadata": {},
   "outputs": [],
   "source": []
  },
  {
   "cell_type": "markdown",
   "id": "5bfb8c43",
   "metadata": {},
   "source": [
    "F is a 2D array where each row represents the y values of the wave for each x value in x at timepoint t."
   ]
  },
  {
   "cell_type": "markdown",
   "id": "168de8e5",
   "metadata": {},
   "source": [
    "### Step 3: Initiate Line artist that the animation function will act on"
   ]
  },
  {
   "cell_type": "markdown",
   "id": "f6caf9fc",
   "metadata": {},
   "source": [
    "We want to plot the positions of the sine wave at the first timepoint so we take the first row from F as our y values."
   ]
  },
  {
   "cell_type": "code",
   "execution_count": null,
   "id": "69272c01",
   "metadata": {},
   "outputs": [],
   "source": []
  },
  {
   "cell_type": "markdown",
   "id": "a32118bb",
   "metadata": {},
   "source": [
    "It is important here to use ax.plot() instead of plt.plot() because we want the object oriented method that ties the plotted line to our Axes object from earlier."
   ]
  },
  {
   "cell_type": "markdown",
   "id": "5e47f218",
   "metadata": {},
   "source": [
    "Also note the [0] at the end of the command. \n",
    "\n",
    "This is because, as we learned before, the method ax.plot() returns a list of Line2D artists. We want *line* to be the Line2D artist itself and not the list, so we take the first item in the list with [0]."
   ]
  },
  {
   "cell_type": "markdown",
   "id": "570256bc",
   "metadata": {},
   "source": [
    "We can see the difference:"
   ]
  },
  {
   "cell_type": "code",
   "execution_count": null,
   "id": "53c7c011",
   "metadata": {},
   "outputs": [],
   "source": []
  },
  {
   "cell_type": "markdown",
   "id": "ecf49b95",
   "metadata": {},
   "source": [
    "### Step 4: Create the Animation Function"
   ]
  },
  {
   "cell_type": "markdown",
   "id": "3b4136e2",
   "metadata": {},
   "source": [
    "This is a function to update the line object we initiated in the previous step. "
   ]
  },
  {
   "cell_type": "code",
   "execution_count": null,
   "id": "1c7ce29b",
   "metadata": {},
   "outputs": [],
   "source": []
  },
  {
   "cell_type": "markdown",
   "id": "ea1e36c3",
   "metadata": {},
   "source": [
    "The function takes one argument, *i*, which we will later see is the frame value fed by FuncAnimation.  \n",
    "\n",
    "Note the function is accessing the global variable, *line*, which we initiated in the previous step. Each time animate() is called it updates the *y* data in *line* which in turn is updating the "
   ]
  },
  {
   "cell_type": "markdown",
   "id": "e8f35f2a",
   "metadata": {},
   "source": [
    "### Step 5: Animate the Plot"
   ]
  },
  {
   "cell_type": "markdown",
   "id": "1759f718",
   "metadata": {},
   "source": [
    "To animate we call FuncAnimation() and store in the variable *anim*."
   ]
  },
  {
   "cell_type": "code",
   "execution_count": null,
   "id": "500cf8a3",
   "metadata": {},
   "outputs": [],
   "source": []
  },
  {
   "cell_type": "markdown",
   "id": "697099b9",
   "metadata": {},
   "source": [
    "## FuncAnimation Arguments"
   ]
  },
  {
   "cell_type": "markdown",
   "id": "5591a6b8",
   "metadata": {},
   "source": [
    "The [animation docs](https://matplotlib.org/stable/api/animation_api.html) explain that FuncAnimation follows essentially this process:\n",
    "\n",
    "`for d in frames:\n",
    "    artists = animate_func(d, *fargs)\n",
    "    fig.canvas.draw_idle()\n",
    "    fig.canvas.start_event_loop(interval)`"
   ]
  },
  {
   "cell_type": "markdown",
   "id": "91d89ccf",
   "metadata": {},
   "source": [
    "### Fig\n",
    "\n",
    "The Figure instance to update with the animation. "
   ]
  },
  {
   "cell_type": "markdown",
   "id": "3b05b0e0",
   "metadata": {},
   "source": [
    "### Func\n",
    "The animation function we defined above, essentially the function that FuncAnimation should use to update *fig* and produce an animation.  \n",
    "\n",
    "`def func(frame, *fargs) -> iterable_of_artists`"
   ]
  },
  {
   "cell_type": "markdown",
   "id": "ee5d6800",
   "metadata": {},
   "source": [
    "In the above example, animate was updating *line* object."
   ]
  },
  {
   "cell_type": "markdown",
   "id": "1f5b3ef6",
   "metadata": {},
   "source": [
    "Note *fig* is not passed to func, so func must know which fig it is working on. The docs recommend 4 ways this can be done:\n",
    "   1. Define the artists at a global scope and reference the global variables from within the function. \n",
    "   1. Use `functools.partial` to bind the artists to the function.\n",
    "   1. Use closures to buld up the required artists and functions.\n",
    "   1. Create a class."
   ]
  },
  {
   "cell_type": "markdown",
   "id": "2a4d14c1",
   "metadata": {},
   "source": [
    "## Frames\n",
    "Data defining the frames of the animation, typically an iterable of integers.\n",
    "\n",
    "Each value in frames is passed as the first arg to func().\n",
    "\n",
    "If *frames* is an integer, it behaves as if \n",
    "\n",
    "`frames = range(integer)`"
   ]
  },
  {
   "cell_type": "markdown",
   "id": "0841583e",
   "metadata": {},
   "source": [
    "### Init_func\n",
    "Another function to use to set up aspects of the plot. It is called once before the first frame.  \n",
    "\n",
    "`def init_func() -> iterable_of_artists`"
   ]
  },
  {
   "cell_type": "markdown",
   "id": "dbe211d4",
   "metadata": {},
   "source": [
    "### blit \n",
    "Boolean. \n",
    "\n",
    "Blitting is a method from computer graphics which means caches parts of the image which don't change from frame to frame. This significantly improves performance.\n",
    "\n",
    "If `blit=True`, then the animation will only re-draw the few artists which change at each frame."
   ]
  },
  {
   "cell_type": "markdown",
   "id": "a1e430aa",
   "metadata": {},
   "source": [
    "### fargs\n",
    "These are any additional arguments for func()."
   ]
  },
  {
   "cell_type": "markdown",
   "id": "c4e23e32",
   "metadata": {},
   "source": [
    "### interval\n",
    "This tells how many milliseconds to delay between drawing each frame in frames."
   ]
  },
  {
   "cell_type": "markdown",
   "id": "7e0b93c2",
   "metadata": {},
   "source": [
    "**Why anim?**  \n",
    "\n",
    "According to matplotlib documentation:\n",
    "> You must store the created Animation in a variable that lives as long as the animation should run. Otherwise, the Animation object will be garbage-collected and the animation stops."
   ]
  },
  {
   "cell_type": "markdown",
   "id": "f1d2493b",
   "metadata": {},
   "source": [
    "## How to Play the Chaos Game\n",
    "A fun game using random numbers to make fractals!"
   ]
  },
  {
   "cell_type": "markdown",
   "id": "e01b8f93",
   "metadata": {},
   "source": [
    "    1. Pick three points on a coordinate plane such that they are not all in one line and label them a, b, and c. We'll call these points the vertices. "
   ]
  },
  {
   "cell_type": "code",
   "execution_count": null,
   "id": "ffe92e8d",
   "metadata": {
    "scrolled": true
   },
   "outputs": [],
   "source": [
    "#coordinate values of the vertices\n",
    "\n",
    "# set up figure to hold our coordinate plane\n",
    "\n",
    "#plot and label the vertices\n",
    "\n"
   ]
  },
  {
   "cell_type": "markdown",
   "id": "37d21d9b",
   "metadata": {},
   "source": [
    "    2. Pick another point somewhere on the plane to be the starting point."
   ]
  },
  {
   "cell_type": "code",
   "execution_count": null,
   "id": "f4cf4368",
   "metadata": {
    "scrolled": true
   },
   "outputs": [],
   "source": [
    "#set initial point\n"
   ]
  },
  {
   "cell_type": "markdown",
   "id": "06d6258a",
   "metadata": {},
   "source": [
    "    3. Roll a 6-sided die. Mark the next point as halfway between the starting point and the vertex associated with the number on the die:\n",
    "        - If 1 or 2 -> vertex a\n",
    "        - If 3 or 4 -> vertex b\n",
    "        - If 5 or 6 -> vertex c"
   ]
  },
  {
   "cell_type": "code",
   "execution_count": null,
   "id": "8b369762",
   "metadata": {},
   "outputs": [],
   "source": [
    "#set coordinates of the vertices\n",
    "vertcoords = {1 : np.array([-1.0, 0.0]), 2 : np.array([-1.0, 0.0]), 3 : np.array([0.0, 1.0]), 4 : np.array([0.0, 1.0]),\n",
    "             5 : np.array([1.0, 0.0]), 6 : np.array([1.0, 0.0])}"
   ]
  },
  {
   "cell_type": "code",
   "execution_count": null,
   "id": "e7de9fcb",
   "metadata": {},
   "outputs": [],
   "source": [
    "#create a list for chaos game coordinates with first value as initial point\n",
    "\n",
    "#get first die rolls\n",
    "\n",
    "\n",
    "# first die roll\n"
   ]
  },
  {
   "cell_type": "code",
   "execution_count": null,
   "id": "f8e2a191",
   "metadata": {},
   "outputs": [],
   "source": []
  },
  {
   "cell_type": "code",
   "execution_count": null,
   "id": "c7edd93d",
   "metadata": {},
   "outputs": [],
   "source": [
    "#get midpoint between start point and vertex\n",
    "\n",
    "\n",
    "#append nextpoint to coords\n"
   ]
  },
  {
   "cell_type": "markdown",
   "id": "8f7aea84",
   "metadata": {},
   "source": [
    "    4. Roll the die again and mark the next point as halfway between the previous point and the vertex associated with the die roll."
   ]
  },
  {
   "cell_type": "code",
   "execution_count": null,
   "id": "b694a877",
   "metadata": {},
   "outputs": [],
   "source": [
    "#animation of next 9 die rolls\n",
    "number_of_rolls = 3000\n",
    "rolls = rng.integers(1, 6, number_of_rolls)\n",
    "\n",
    "def init_frame():\n",
    "    #tell which ax variable to use\n",
    "    global ax\n",
    "    #clear any previously plotted data from axes object\n",
    "    ax.cla()\n",
    "    #set up plot parameters as we did before\n",
    "    ax.set(xlim=(xmin, xmax), ylim=(ymin, ymax))\n",
    "    ax.scatter(x=0, y=0.25, s=2, c='r', label='inital point')\n",
    "    ax.scatter(x_vals, y_vals, c='b', label='vertices')\n",
    "    ax.scatter(x=second_point[0], y=second_point[1], s=2, c='g')\n",
    "    ax.legend()\n",
    "    #label the chaos game vertices\n",
    "    for i, xy in enumerate(zip(x_vals, y_vals)):\n",
    "        labels = ['a', 'b', 'c']\n",
    "        ax.annotate(f'{labels[i]}', xy, xycoords='data', xytext=(5, 5), textcoords='offset pixels')\n",
    "        \n",
    "def animation(i):\n",
    "    nextvt = vertcoords[rolls[i]]\n",
    "    nextpt = (coords[-1] + nextvt)/2\n",
    "    coords.append(nextpt)\n",
    "    x, y = nextpt\n",
    "    ax.scatter(x, y, s=2, c='g')\n",
    "    \n",
    "tenrolls = FuncAnimation(fig, animation, frames=range(1, number_of_rolls), init_func=init_frame, interval=1, repeat=True, blit=False)\n",
    "fig.show()"
   ]
  },
  {
   "cell_type": "markdown",
   "id": "0d3b01fe",
   "metadata": {},
   "source": [
    "Here we set `blit=False` so that the plot clears before the animation repeats."
   ]
  },
  {
   "cell_type": "code",
   "execution_count": null,
   "id": "67021075",
   "metadata": {},
   "outputs": [],
   "source": [
    "number_of_rolls = 3000\n",
    "rolls = rng.integers(1, 6, number_of_rolls)"
   ]
  },
  {
   "cell_type": "code",
   "execution_count": null,
   "id": "49fc3ed9",
   "metadata": {},
   "outputs": [],
   "source": [
    "\n",
    "chunks = 20\n",
    "frame_chunks = number_of_rolls // chunks\n",
    "for i in rolls:\n",
    "    coords.append((coords[-1] + vertcoords[i])/2)\n",
    "def animation(i):\n",
    "    i_from = i * chunks\n",
    "    # are we on the last frame?\n",
    "    if i_from + chunks > len(coords) - 1:\n",
    "        i_to = len(coords) - 1\n",
    "    else:\n",
    "        i_to = i_from + chunks\n",
    "    rows = coords[i_from:i_to]\n",
    "    x, y = zip(*rows)\n",
    "    ax.scatter(x, y, s=2, c='g')\n",
    "    \n",
    "ani = FuncAnimation(fig, animation, frames=frame_chunks, init_func=init_frame, interval=5, repeat=True, blit=True)\n",
    "#from IPython.display import HTML\n",
    "HTML(ani.to_jshtml())"
   ]
  }
 ],
 "metadata": {
  "kernelspec": {
   "display_name": "Python 3 (ipykernel)",
   "language": "python",
   "name": "python3"
  },
  "language_info": {
   "codemirror_mode": {
    "name": "ipython",
    "version": 3
   },
   "file_extension": ".py",
   "mimetype": "text/x-python",
   "name": "python",
   "nbconvert_exporter": "python",
   "pygments_lexer": "ipython3",
   "version": "3.9.12"
  }
 },
 "nbformat": 4,
 "nbformat_minor": 5
}
