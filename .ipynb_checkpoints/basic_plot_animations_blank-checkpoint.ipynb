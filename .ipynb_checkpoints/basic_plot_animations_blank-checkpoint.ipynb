{
 "cells": [
  {
   "cell_type": "markdown",
   "id": "25a9df62",
   "metadata": {},
   "source": [
    "# Basic Plot Animations with Matplotlib"
   ]
  },
  {
   "cell_type": "markdown",
   "id": "003a4d3d",
   "metadata": {},
   "source": [
    "## Module Imports"
   ]
  },
  {
   "cell_type": "code",
   "execution_count": 1,
   "id": "d22b80a3",
   "metadata": {},
   "outputs": [],
   "source": [
    "%matplotlib notebook\n",
    "import numpy as np\n",
    "import matplotlib.pyplot as plt\n",
    "from matplotlib.animation import FuncAnimation"
   ]
  },
  {
   "cell_type": "markdown",
   "id": "a1edb02d",
   "metadata": {},
   "source": [
    "## Initiate the Figure and Axes artists that will contain the plot components"
   ]
  },
  {
   "cell_type": "markdown",
   "id": "78bef4cb",
   "metadata": {},
   "source": [
    "Set the limits of the Axes artist. Setting the limits explicitly helps prevent rescaling during the animation phase."
   ]
  },
  {
   "cell_type": "code",
   "execution_count": null,
   "id": "21b97d11",
   "metadata": {},
   "outputs": [],
   "source": [
    "fig, ax = plt.subplots(figsize=(5, 3))\n",
    "ax.set(xlim=(-3, 3), ylim=(-1, 1))"
   ]
  },
  {
   "cell_type": "markdown",
   "id": "0c408971",
   "metadata": {},
   "source": [
    "## Set up data to plot"
   ]
  },
  {
   "cell_type": "code",
   "execution_count": null,
   "id": "442f78ca",
   "metadata": {},
   "outputs": [],
   "source": [
    "x = np.linspace(-3, 3, 91)\n",
    "t = np.linspace(1, 25, 30)\n",
    "X2, T2 = np.meshgrid(x, t)\n",
    " \n",
    "sinT2 = np.sin(2*np.pi*T2/T2.max())\n",
    "F = 0.9*sinT2*np.sinc(X2*(1 + sinT2))"
   ]
  },
  {
   "cell_type": "markdown",
   "id": "53e6f08c",
   "metadata": {},
   "source": [
    "## How to Play the Chaos Game"
   ]
  },
  {
   "cell_type": "markdown",
   "id": "2aa0aba5",
   "metadata": {},
   "source": [
    "    1. Pick three points on a coordinate plane such that they are not all in one line and label them a, b, and c. We'll call these points the vertices. "
   ]
  },
  {
   "cell_type": "code",
   "execution_count": null,
   "id": "95aa1397",
   "metadata": {},
   "outputs": [],
   "source": [
    "#coordinate values of the vertices\n",
    "x_vals = np.array([-1, 0, 1])\n",
    "y_vals = np.array([0, 1, 0])\n",
    "# set up figure to hold our coordinate plane\n",
    "xmin = x_vals.min() - 0.2\n",
    "xmax = x_vals.max() + 0.2\n",
    "ymin = y_vals.min() - 0.2\n",
    "ymax = y_vals.max() + 0.2\n",
    "fig, ax = plt.subplots(figsize=(5, 5))\n",
    "ax.set(xlim=(xmin, xmax), ylim=(ymin, ymax))\n",
    "#plot and label the vertices\n",
    "ax.scatter(x_vals, y_vals, c='b', label='vertices')\n",
    "for i, xy in enumerate(zip(x_vals, y_vals)):\n",
    "    labels = ['a', 'b', 'c']\n",
    "    ax.annotate(f'{labels[i]}', xy, xycoords='data', xytext=(5, 5), textcoords='offset pixels')\n",
    "ax.legend()\n",
    "plt.show()"
   ]
  },
  {
   "cell_type": "markdown",
   "id": "cf2f860a",
   "metadata": {},
   "source": [
    "    2. Pick another point somewhere on the plane to be the starting point."
   ]
  },
  {
   "cell_type": "code",
   "execution_count": null,
   "id": "9de33f45",
   "metadata": {},
   "outputs": [],
   "source": [
    "#set starting coordinate\n",
    "start = np.array([0.0, 0.25])\n",
    "ax.scatter(x=0.0, y=0.25, s=3, c='r', label='inital point')\n",
    "ax.legend()\n",
    "fig"
   ]
  },
  {
   "cell_type": "markdown",
   "id": "300f2e31",
   "metadata": {},
   "source": [
    "    3. Roll a 6-sided die. Mark the next point as halfway between the starting point and the vertex associated with the number on the die:\n",
    "        - If 1 or 2 -> vertex a\n",
    "        - If 3 or 4 -> vertex b\n",
    "        - If 5 or 6 -> vertex c"
   ]
  },
  {
   "cell_type": "code",
   "execution_count": null,
   "id": "254d6f99",
   "metadata": {},
   "outputs": [],
   "source": [
    "vertcoords = {1 : np.array([-1.0, 0.0]), 2 : np.array([-1.0, 0.0]), 3 : np.array([0.0, 1.0]), 4 : np.array([0.0, 1.0]),\n",
    "             5 : np.array([1.0, 0.0]), 6 : np.array([1.0, 0.0])}\n",
    "#a = np.array([-1.0, 0.0])\n",
    "#b = np.array([0.0, 1.0])\n",
    "#c = np.array([1.0, 0.0])\n",
    "coords = [start]\n",
    "#list of first 10 die rolls\n",
    "rolls = [5, 3, 6, 1, 1, 2, 5, 3, 4, 3]\n",
    "# first die roll is 5\n",
    "nextvert = vertcoords[rolls[0]]\n",
    "#get midpoint between start point and vertex c\n",
    "nextpoint = (start + nextvert)/2\n",
    "#nextpoint is [0.5  , 0.125]\n",
    "coords.append(nextpoint)\n",
    "ax.scatter(x=nextpoint[0], y=nextpoint[1], s=2, c='g')\n",
    "ax.annotate('next point', tuple(nextpoint), xytext=(20,20), textcoords='offset points', arrowprops=dict(arrowstyle='->'))\n",
    "fig"
   ]
  },
  {
   "cell_type": "markdown",
   "id": "2005e1f5",
   "metadata": {},
   "source": [
    "    4. Roll the die again and mark the next point as halfway between the previous point and the vertex associated with the die roll."
   ]
  },
  {
   "cell_type": "code",
   "execution_count": null,
   "id": "c2380fa6",
   "metadata": {},
   "outputs": [],
   "source": [
    "#animation of next 9 die rolls\n",
    "\n",
    "def init_frame():\n",
    "    global ax\n",
    "    ax.cla()\n",
    "    ax.set(xlim=(xmin, xmax), ylim=(ymin, ymax))\n",
    "    ax.scatter(x=0, y=0.25, s=2, c='r', label='inital point')\n",
    "    ax.scatter(x_vals, y_vals, c='b', label='vertices')\n",
    "    ax.scatter(x=0.5, y=0.125, s=2, c='g')\n",
    "    ax.legend()\n",
    "    for i, xy in enumerate(zip(x_vals, y_vals)):\n",
    "        labels = ['a', 'b', 'c']\n",
    "        ax.annotate(f'{labels[i]}', xy, xycoords='data', xytext=(5, 5), textcoords='offset pixels')\n",
    "        \n",
    "def animation(i):\n",
    "    nextvt = vertcoords[rolls[i]]\n",
    "    nextpt = (coords[-1] + nextvt)/2\n",
    "    coords.append(nextpt)\n",
    "    x, y = nextpt\n",
    "    ax.scatter(x, y, s=2, c='g')\n",
    "    \n",
    "tenrolls = FuncAnimation(fig, animation, frames=range(1, 10), init_func=init_frame, interval=1000, repeat=True, blit=False)\n",
    "HTML(tenrolls.to_jshtml())"
   ]
  },
  {
   "cell_type": "code",
   "execution_count": null,
   "id": "dcddddeb",
   "metadata": {},
   "outputs": [],
   "source": []
  }
 ],
 "metadata": {
  "kernelspec": {
   "display_name": "Python 3 (ipykernel)",
   "language": "python",
   "name": "python3"
  },
  "language_info": {
   "codemirror_mode": {
    "name": "ipython",
    "version": 3
   },
   "file_extension": ".py",
   "mimetype": "text/x-python",
   "name": "python",
   "nbconvert_exporter": "python",
   "pygments_lexer": "ipython3",
   "version": "3.9.12"
  }
 },
 "nbformat": 4,
 "nbformat_minor": 5
}
