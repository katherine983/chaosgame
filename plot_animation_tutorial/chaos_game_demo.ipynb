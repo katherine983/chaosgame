{
 "cells": [
  {
   "cell_type": "markdown",
   "id": "ff5b3958",
   "metadata": {},
   "source": [
    "# Demo of Chaos Game Class\n",
    "By Katie Wuestney"
   ]
  },
  {
   "cell_type": "code",
   "execution_count": null,
   "id": "4a201f6a",
   "metadata": {},
   "outputs": [],
   "source": [
    "%matplotlib notebook\n",
    "import numpy as np\n",
    "import matplotlib.pyplot as plt\n",
    "from matplotlib.animation import FuncAnimation\n",
    "from IPython.display import HTML"
   ]
  },
  {
   "cell_type": "code",
   "execution_count": null,
   "id": "c688433c",
   "metadata": {},
   "outputs": [],
   "source": [
    "def LCG(seed=1):\n",
    "    x = seed\n",
    "    def get_seed():\n",
    "        return seed\n",
    "    def gen():\n",
    "        nonlocal x\n",
    "        \"\"\"\n",
    "        #ANSI C rand() 1990\n",
    "        a = 1103515245\n",
    "        b = 12345\n",
    "        m = 2**31\n",
    "        \"\"\"\n",
    "        '''\n",
    "        #Boeing Computer Services LIB\n",
    "        a = 3051757812\n",
    "        b =  726106708\n",
    "        m = 2**35\n",
    "        '''\n",
    "        #one of the worst\n",
    "        a = 950706376\n",
    "        b = 0\n",
    "        m = 2**31 - 1\n",
    "        x = (a*x + b) % m\n",
    "        return x\n",
    "    def integers(low, high=None, points=1):\n",
    "        \n",
    "        if high is None:\n",
    "            high = low\n",
    "            low = 0\n",
    "        i = 0\n",
    "        while i < points:\n",
    "            yield low + (gen() % high)\n",
    "            i += 1\n",
    "    gen.get_seed = get_seed\n",
    "    gen.ints = integers\n",
    "    return gen\n",
    "rng = LCG(seed=2653589793)\n",
    "rng()"
   ]
  },
  {
   "cell_type": "code",
   "execution_count": null,
   "id": "036ad2cc",
   "metadata": {},
   "outputs": [],
   "source": [
    "def RANDU(seed=1):\n",
    "    x = seed\n",
    "    def get_seed():\n",
    "        return seed\n",
    "    def gen():\n",
    "        nonlocal x\n",
    "        a = 65539\n",
    "        m = 2**31\n",
    "        x = (a*x) % m\n",
    "        return x\n",
    "    def integers(low, high=None, points=1):\n",
    "        \n",
    "        if high is None:\n",
    "            high = low\n",
    "            low = 0\n",
    "        i = 0\n",
    "        while i < points:\n",
    "            yield low + (gen() % high)\n",
    "            i += 1\n",
    "    gen.get_seed = get_seed\n",
    "    gen.ints = integers\n",
    "    return gen\n",
    "rng = RANDU(seed=2653589793)\n",
    "rng()"
   ]
  },
  {
   "cell_type": "code",
   "execution_count": null,
   "id": "a3bd583d",
   "metadata": {},
   "outputs": [],
   "source": [
    "def PASCAL(seed=1):\n",
    "    x = seed\n",
    "    def get_seed():\n",
    "        return seed\n",
    "    def gen():\n",
    "        nonlocal x\n",
    "        #one of the worst\n",
    "        a = 129\n",
    "        b = 907633385\n",
    "        m = 2**32\n",
    "        x = ((a*x + b) % m)\n",
    "        return x\n",
    "    def integers(low, high=None, points=1):\n",
    "        \n",
    "        if high is None:\n",
    "            high = low\n",
    "            low = 0\n",
    "        i = 0\n",
    "        while i < points:\n",
    "            yield low + (gen() % high)\n",
    "            i += 1\n",
    "    gen.get_seed = get_seed\n",
    "    gen.ints = integers\n",
    "    return gen\n",
    "rng = PASCAL(seed=2653589793)\n",
    "rng()"
   ]
  },
  {
   "cell_type": "code",
   "execution_count": null,
   "id": "47194668",
   "metadata": {
    "scrolled": true
   },
   "outputs": [],
   "source": [
    "np.array(rng.ints(0, 4, 20))"
   ]
  },
  {
   "cell_type": "code",
   "execution_count": null,
   "id": "9597acd0",
   "metadata": {},
   "outputs": [],
   "source": [
    "205800 % 6"
   ]
  },
  {
   "cell_type": "code",
   "execution_count": null,
   "id": "1edc329f",
   "metadata": {},
   "outputs": [],
   "source": [
    "def ngon_coords(verts):\n",
    "    radians=[]\n",
    "    for k in range(verts):\n",
    "        rad = (2*np.pi*k)/verts\n",
    "        radians.append(rad)\n",
    "    x_vals = np.cos(radians)\n",
    "    y_vals =np.sin(radians)\n",
    "    return x_vals, y_vals"
   ]
  },
  {
   "cell_type": "code",
   "execution_count": null,
   "id": "21dc97aa",
   "metadata": {},
   "outputs": [],
   "source": [
    "class chaos_game:\n",
    "    def __init__(self, verts, points, RNG='default_rng'):\n",
    "        #self.fig = fig\n",
    "        #self.ax = ax\n",
    "        self.verts = verts\n",
    "        self.points = points\n",
    "        #get vertex coordinates\n",
    "        x_vals, y_vals = ngon_coords(verts)\n",
    "        self.x_vals = x_vals\n",
    "        self.y_vals = y_vals\n",
    "        vert_coords = np.column_stack((x_vals, y_vals))\n",
    "        xmin = x_vals.min() - 0.2\n",
    "        xmax = x_vals.max() + 0.2\n",
    "        ymin = y_vals.min() - 0.2\n",
    "        ymax = y_vals.max() + 0.2\n",
    "        self.xlims = (xmin, xmax)\n",
    "        self.ylims = (ymin, ymax)\n",
    "        #c is starting coordinate\n",
    "        c = np.array([0.0, 0.25])\n",
    "\n",
    "        #initiate figure instance\n",
    "        self.fig, self.ax = plt.subplots(figsize=(4, 4))\n",
    "        self.ax.set(xlim=self.xlims, ylim=self.ylims)\n",
    "        if RNG == 'default_rng':\n",
    "            rng = np.random.default_rng()\n",
    "            self.randints = rng.integers(0, verts, points)\n",
    "        elif RNG == 'LCG':\n",
    "            rng = LCG()\n",
    "            self.randints = list(rng.ints(0, verts, points))\n",
    "        elif RNG == 'Mersenne':\n",
    "            rng = np.random.Generator(np.random.MT19937())\n",
    "            self.randints = rng.integers(0, verts, points)\n",
    "        elif RNG == 'RANDU':\n",
    "            rng = RANDU(33)\n",
    "            self.randints = list(rng.ints(0, verts, points))\n",
    "        elif RNG == 'PASCAL':\n",
    "            rng = PASCAL(33)\n",
    "            self.randints = list(rng.ints(0, verts, points))\n",
    "        coords = [c]\n",
    "        #firstpts = 10\n",
    "        for i in self.randints:\n",
    "            coords.append((coords[-1] + vert_coords[i])/2)\n",
    "        self.coords = coords[1:]\n",
    "        \n",
    "    def plot(self):\n",
    "        x, y = zip(*self.coords)\n",
    "        self.ax.scatter(self.x_vals, self.y_vals, c='b', label='vertices')\n",
    "        self.ax.legend()\n",
    "        for i, xy in enumerate(zip(self.x_vals, self.y_vals)):\n",
    "            self.ax.annotate(f'{i}', xy, xycoords='data', xytext=(4,4), textcoords='offset points')\n",
    "        self.ax.scatter(x, y, s=1, c='g')\n",
    "        return\n",
    "        \n",
    "    def savefig(self, filename, **kwargs):\n",
    "        self.fig.savefig(filename, **kwargs)\n",
    "        return\n",
    "\n",
    "    def init_frame(self):\n",
    "        self.ax.cla()\n",
    "        self.ax.set(xlim=self.xlims, ylim=self.ylims)\n",
    "        self.ax.scatter(x=0, y=0.25, s=1, c='r', label='inital point')\n",
    "        self.ax.scatter(self.x_vals, self.y_vals, c='b', label='vertices')\n",
    "        self.ax.legend()\n",
    "        for i, xy in enumerate(zip(self.x_vals, self.y_vals)):\n",
    "            self.ax.annotate(f'{i}', xy, xycoords='data', xytext=(4,4), textcoords='offset points')\n",
    "        return\n",
    "    \n",
    "    def animation(self, i):\n",
    "        i_from = i * self.chunks\n",
    "        # are we on the last frame?\n",
    "        if i_from + self.chunks > len(self.coords) - 1:\n",
    "            i_to = len(self.coords) - 1\n",
    "        else:\n",
    "            i_to = i_from + self.chunks\n",
    "        rows = self.coords[i_from:i_to]\n",
    "        x, y = zip(*rows)\n",
    "        self.ax.scatter(x, y, s=1, c='g')\n",
    "        return\n",
    "    \n",
    "    def animate(self, chunks=10):\n",
    "        self.chunks = chunks\n",
    "        self.frame_chunks = self.points // self.chunks\n",
    "        self.ani = FuncAnimation(self.fig, self.animation, frames=self.frame_chunks, init_func=self.init_frame, interval=0.5, repeat=True, blit=True)\n",
    "        plt.show()\n",
    "        \n",
    "    def movie(self):\n",
    "        movie1 = self.ani.to_jshtml()\n",
    "        return movie1\n",
    "    \n",
    "    def pause(self):\n",
    "        self.ani.pause()\n",
    "        return"
   ]
  },
  {
   "cell_type": "code",
   "execution_count": null,
   "id": "24d15b3d",
   "metadata": {
    "scrolled": true
   },
   "outputs": [],
   "source": [
    "cgLCG = chaos_game(4, 10000, RNG='LCG')\n",
    "cgLCG.plot()"
   ]
  },
  {
   "cell_type": "code",
   "execution_count": null,
   "id": "dc024cd5",
   "metadata": {
    "scrolled": true
   },
   "outputs": [],
   "source": [
    "cgRANDU = chaos_game(4, 10000, RNG='RANDU')\n",
    "cgRANDU.plot()"
   ]
  },
  {
   "cell_type": "code",
   "execution_count": null,
   "id": "31ffdc88",
   "metadata": {
    "scrolled": false
   },
   "outputs": [],
   "source": [
    "cgPASCAL = chaos_game(8, 10000, RNG='PASCAL')\n",
    "cgPASCAL.plot()"
   ]
  },
  {
   "cell_type": "code",
   "execution_count": null,
   "id": "2925920b",
   "metadata": {
    "scrolled": true
   },
   "outputs": [],
   "source": [
    "cgMT = chaos_game(5, 10000, RNG='Mersenne')\n",
    "cgMT.plot()"
   ]
  },
  {
   "cell_type": "code",
   "execution_count": null,
   "id": "38a65fb2",
   "metadata": {
    "scrolled": true
   },
   "outputs": [],
   "source": [
    "cg4 = chaos_game(4, 20000)\n",
    "\n",
    "#cg4.savefig('demo_files/chaosgame4v.png')"
   ]
  },
  {
   "cell_type": "code",
   "execution_count": null,
   "id": "9b0f79df",
   "metadata": {},
   "outputs": [],
   "source": [
    "cg4.animate(chunks=)"
   ]
  },
  {
   "cell_type": "code",
   "execution_count": null,
   "id": "21f34bb5",
   "metadata": {
    "scrolled": true
   },
   "outputs": [],
   "source": [
    "cg4 = chaos_game(8, 20000)\n",
    "cg4.plot()\n",
    "cg4.savefig('demo_files/chaosgame8v.png')"
   ]
  },
  {
   "cell_type": "code",
   "execution_count": null,
   "id": "84e5f841",
   "metadata": {},
   "outputs": [],
   "source": [
    "cg4 = chaos_game(16, 20000)\n",
    "cg4.plot()\n",
    "cg4.savefig('demo_files/chaosgame16v.png')"
   ]
  },
  {
   "cell_type": "code",
   "execution_count": null,
   "id": "3f95e2df",
   "metadata": {
    "scrolled": true
   },
   "outputs": [],
   "source": [
    "cg = chaos_game(5, 10000)\n",
    "cg.plot()"
   ]
  },
  {
   "cell_type": "code",
   "execution_count": null,
   "id": "e5a911b1",
   "metadata": {
    "scrolled": true
   },
   "outputs": [],
   "source": [
    "mv = cg.animate()\n",
    "HTML(mv)"
   ]
  }
 ],
 "metadata": {
  "kernelspec": {
   "display_name": "Python 3 (ipykernel)",
   "language": "python",
   "name": "python3"
  },
  "language_info": {
   "codemirror_mode": {
    "name": "ipython",
    "version": 3
   },
   "file_extension": ".py",
   "mimetype": "text/x-python",
   "name": "python",
   "nbconvert_exporter": "python",
   "pygments_lexer": "ipython3",
   "version": "3.9.12"
  }
 },
 "nbformat": 4,
 "nbformat_minor": 5
}
